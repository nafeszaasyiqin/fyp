{
 "cells": [
  {
   "cell_type": "code",
   "execution_count": 34,
   "outputs": [],
   "source": [
    "import csv\n",
    "import requests\n",
    "import bs4\n",
    "import io"
   ],
   "metadata": {
    "collapsed": false,
    "pycharm": {
     "name": "#%%\n"
    }
   }
  },
  {
   "cell_type": "code",
   "execution_count": 35,
   "outputs": [],
   "source": [
    "def extract(url):\n",
    "    r = requests.get(url) #returns the HTML of the page, can be done through urlopen as well\n",
    "    soup = bs4.BeautifulSoup(r.content)\n",
    "\n",
    "    titles = soup.findAll(\"td\",{\"style\":\"border:0 none;padding:0;background:0 none;\"})\n",
    "    titles = titles[1:len(titles):2]\n",
    "\n",
    "    majors = soup.findAll(\"td\",{\"width\":\"135\"})\n",
    "\n",
    "    languages = soup.findAll(\"td\",{\"width\":\"105\"})\n",
    "\n",
    "    start = soup.findAll(\"td\",{\"width\":\"120\"})\n",
    "    start = start[0:len(start):2]\n",
    "\n",
    "    scholarship = soup.findAll(\"td\",{\"width\":\"212\"})\n",
    "\n",
    "    to_pay = soup.findAll(\"td\",{\"width\":\"262\"})\n",
    "\n",
    "    return titles, majors, languages, start, scholarship, to_pay"
   ],
   "metadata": {
    "collapsed": false,
    "pycharm": {
     "name": "#%%\n"
    }
   }
  },
  {
   "cell_type": "code",
   "execution_count": 36,
   "outputs": [],
   "source": [
    "def page_count(url):\n",
    "    url = url + str(1)\n",
    "    r = requests.get(url) #returns the HTML of the page, can be done through urlopen as well\n",
    "    soup = bs4.BeautifulSoup(r.content)\n",
    "    page_numbers = soup.findAll(\"div\",{\"class\":\"page\"})\n",
    "    total_schols = int(page_numbers[0].text[page_numbers[0].text.find(':')+1:])\n",
    "    if (total_schols%15==0):\n",
    "        iterations = total_schols/15\n",
    "    else:\n",
    "        iterations = int(total_schols/15)+1\n",
    "    return(int(iterations))"
   ],
   "metadata": {
    "collapsed": false,
    "pycharm": {
     "name": "#%%\n"
    }
   }
  },
  {
   "cell_type": "code",
   "execution_count": 37,
   "outputs": [
    {
     "ename": "IndexError",
     "evalue": "list index out of range",
     "output_type": "error",
     "traceback": [
      "\u001B[1;31m---------------------------------------------------------------------------\u001B[0m",
      "\u001B[1;31mIndexError\u001B[0m                                Traceback (most recent call last)",
      "Cell \u001B[1;32mIn[37], line 8\u001B[0m\n\u001B[0;32m      6\u001B[0m \u001B[38;5;28;01mfor\u001B[39;00m major_count \u001B[38;5;129;01min\u001B[39;00m \u001B[38;5;28mrange\u001B[39m(\u001B[38;5;241m1\u001B[39m,\u001B[38;5;241m5\u001B[39m):\n\u001B[0;32m      7\u001B[0m     url \u001B[38;5;241m=\u001B[39m \u001B[38;5;124m'\u001B[39m\u001B[38;5;124mhttps://afterschool.my/scholarship/gamuda-scholarship\u001B[39m\u001B[38;5;124m'\u001B[39m\n\u001B[1;32m----> 8\u001B[0m     iterations \u001B[38;5;241m=\u001B[39m \u001B[43mpage_count\u001B[49m\u001B[43m(\u001B[49m\u001B[43murl\u001B[49m\u001B[43m)\u001B[49m\n\u001B[0;32m     10\u001B[0m     \u001B[38;5;28;01mfor\u001B[39;00m j \u001B[38;5;129;01min\u001B[39;00m \u001B[38;5;28mrange\u001B[39m(\u001B[38;5;241m1\u001B[39m,iterations\u001B[38;5;241m+\u001B[39m\u001B[38;5;241m1\u001B[39m):\n\u001B[0;32m     11\u001B[0m         url_new \u001B[38;5;241m=\u001B[39m url \u001B[38;5;241m+\u001B[39m \u001B[38;5;28mstr\u001B[39m(j)\n",
      "Cell \u001B[1;32mIn[36], line 6\u001B[0m, in \u001B[0;36mpage_count\u001B[1;34m(url)\u001B[0m\n\u001B[0;32m      4\u001B[0m soup \u001B[38;5;241m=\u001B[39m bs4\u001B[38;5;241m.\u001B[39mBeautifulSoup(r\u001B[38;5;241m.\u001B[39mcontent)\n\u001B[0;32m      5\u001B[0m page_numbers \u001B[38;5;241m=\u001B[39m soup\u001B[38;5;241m.\u001B[39mfindAll(\u001B[38;5;124m\"\u001B[39m\u001B[38;5;124mdiv\u001B[39m\u001B[38;5;124m\"\u001B[39m,{\u001B[38;5;124m\"\u001B[39m\u001B[38;5;124mclass\u001B[39m\u001B[38;5;124m\"\u001B[39m:\u001B[38;5;124m\"\u001B[39m\u001B[38;5;124mpage\u001B[39m\u001B[38;5;124m\"\u001B[39m})\n\u001B[1;32m----> 6\u001B[0m total_schols \u001B[38;5;241m=\u001B[39m \u001B[38;5;28mint\u001B[39m(\u001B[43mpage_numbers\u001B[49m\u001B[43m[\u001B[49m\u001B[38;5;241;43m0\u001B[39;49m\u001B[43m]\u001B[49m\u001B[38;5;241m.\u001B[39mtext[page_numbers[\u001B[38;5;241m0\u001B[39m]\u001B[38;5;241m.\u001B[39mtext\u001B[38;5;241m.\u001B[39mfind(\u001B[38;5;124m'\u001B[39m\u001B[38;5;124m:\u001B[39m\u001B[38;5;124m'\u001B[39m)\u001B[38;5;241m+\u001B[39m\u001B[38;5;241m1\u001B[39m:])\n\u001B[0;32m      7\u001B[0m \u001B[38;5;28;01mif\u001B[39;00m (total_schols\u001B[38;5;241m%\u001B[39m\u001B[38;5;241m15\u001B[39m\u001B[38;5;241m==\u001B[39m\u001B[38;5;241m0\u001B[39m):\n\u001B[0;32m      8\u001B[0m     iterations \u001B[38;5;241m=\u001B[39m total_schols\u001B[38;5;241m/\u001B[39m\u001B[38;5;241m15\u001B[39m\n",
      "\u001B[1;31mIndexError\u001B[0m: list index out of range"
     ]
    }
   ],
   "source": [
    "dict = {}\n",
    "schol_id=0\n",
    "with open('test_new.csv', 'w', newline='',encoding=\"utf-8\") as fp:\n",
    "    a = csv.writer(fp, delimiter=',')\n",
    "    a.writerows([['schol_id','University','Major','Level','Language','Start Date','Tuition Covered', 'Accomodation covered?', 'Living Expense Covered?','Tuition fees to pay','Original Tuition fee','Accomodation to pay','Living expense to pay']])\n",
    "    for major_count in range(1,5):\n",
    "        url = 'https://afterschool.my/scholarship/gamuda-scholarship'\n",
    "        iterations = page_count(url)\n",
    "\n",
    "        for j in range(1,iterations+1):\n",
    "            url_new = url + str(j)\n",
    "            titles, majors , languages, start, scholarship, to_pay = extract(url_new)\n",
    "            for i in range(0,len(majors)):\n",
    "                title = titles[i].p.text\n",
    "                major = majors[i].p.text\n",
    "                if major_count==1:\n",
    "                    level = 'Non-Degree'\n",
    "                elif major_count==2:\n",
    "                    level = 'Bachelor'\n",
    "                elif major_count==3:\n",
    "                    level = 'Master'\n",
    "                elif major_count==4:\n",
    "                    level = 'Phd'\n",
    "                language = languages[i].text\n",
    "                start_date = start[i].text\n",
    "\n",
    "                tuition_acc_living = scholarship[i].p.text\n",
    "                tuition = tuition_acc_living[tuition_acc_living.find(':')+1:tuition_acc_living.find('\\n')].strip()\n",
    "\n",
    "                accomodation = tuition_acc_living[tuition_acc_living.find(':',tuition_acc_living.find('Accom'))+1:tuition_acc_living.find('\\n',tuition_acc_living.find('Accom'))].strip()\n",
    "\n",
    "                living = tuition_acc_living[tuition_acc_living.find(':',tuition_acc_living.find('Living'))+1:].strip()\n",
    "\n",
    "                To_Pay = to_pay[i].p.text\n",
    "                try:\n",
    "                    orig_tuition = to_pay[i].p.span.text.strip()\n",
    "                except:\n",
    "                    orig_tuition=-1\n",
    "                try:\n",
    "                    tuition_to_pay = To_Pay[To_Pay.find(':')+1:To_Pay.find('\\n',To_Pay.find(':')+1)].strip().replace(orig_tuition,'').strip()\n",
    "                except:\n",
    "                    tuition_to_pay = To_Pay[To_Pay.find(':')+1:To_Pay.find('\\n', To_Pay.find(':'))].strip()\n",
    "\n",
    "                try:\n",
    "                    accomodation_to_pay = To_Pay[To_Pay.find(':',To_Pay.find('Acco'))+1:To_Pay.find('\\n',To_Pay.find(':',To_Pay.find('Acco')))].strip()\n",
    "                except:\n",
    "                    accomodation_to_pay = To_Pay[To_Pay.find(':',To_Pay.find('Acc'))+1:To_Pay.find('\\n',To_Pay.find('Acc'))].strip()\n",
    "                try:\n",
    "                    Living_Expense_to_pay = To_Pay[To_Pay.find(':',To_Pay.find('Expense'))+1:To_Pay.find('\\n',To_Pay.find(':',To_Pay.find('Expense')))].strip()\n",
    "                except:\n",
    "                    Living_Expense_to_pay = To_Pay[To_Pay.find(':',To_Pay.find('Liv'))+1:To_Pay.find('\\n',To_Pay.find('Liv'))].strip()\n",
    "\n",
    "                schol_id+=1\n",
    "                data = [[schol_id,title, major,level, language, start_date,tuition,accomodation, living, tuition_to_pay, orig_tuition,accomodation_to_pay,Living_Expense_to_pay]]\n",
    "                a.writerows(data)\n",
    "print('done')"
   ],
   "metadata": {
    "collapsed": false,
    "pycharm": {
     "name": "#%%\n"
    }
   }
  }
 ],
 "metadata": {
  "kernelspec": {
   "display_name": "Python 3",
   "language": "python",
   "name": "python3"
  },
  "language_info": {
   "codemirror_mode": {
    "name": "ipython",
    "version": 2
   },
   "file_extension": ".py",
   "mimetype": "text/x-python",
   "name": "python",
   "nbconvert_exporter": "python",
   "pygments_lexer": "ipython2",
   "version": "2.7.6"
  }
 },
 "nbformat": 4,
 "nbformat_minor": 0
}